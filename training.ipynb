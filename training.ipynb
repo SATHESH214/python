{
 "cells": [
  {
   "cell_type": "code",
   "execution_count": 1,
   "id": "0dbef1c4",
   "metadata": {},
   "outputs": [],
   "source": [
    "shops={1:'mobile accessories',2:'glocerys shops',3:'stationary',4:'pit shops'}"
   ]
  },
  {
   "cell_type": "code",
   "execution_count": 2,
   "id": "2619dd08",
   "metadata": {},
   "outputs": [
    {
     "data": {
      "text/plain": [
       "dict"
      ]
     },
     "execution_count": 2,
     "metadata": {},
     "output_type": "execute_result"
    }
   ],
   "source": [
    "type(shops)"
   ]
  },
  {
   "cell_type": "code",
   "execution_count": 6,
   "id": "72d6fbbc",
   "metadata": {},
   "outputs": [
    {
     "data": {
      "text/plain": [
       "'stationary'"
      ]
     },
     "execution_count": 6,
     "metadata": {},
     "output_type": "execute_result"
    }
   ],
   "source": [
    "shops[3]"
   ]
  },
  {
   "cell_type": "code",
   "execution_count": 13,
   "id": "6503f8d0",
   "metadata": {
    "scrolled": false
   },
   "outputs": [
    {
     "data": {
      "text/plain": [
       "dict_values(['mobile accessories', 'glocerys shops', 'stationary', 'pit shops'])"
      ]
     },
     "execution_count": 13,
     "metadata": {},
     "output_type": "execute_result"
    }
   ],
   "source": [
    "shops.values()"
   ]
  },
  {
   "cell_type": "code",
   "execution_count": 11,
   "id": "60eb6e88",
   "metadata": {},
   "outputs": [
    {
     "data": {
      "text/plain": [
       "dict_keys([1, 2, 3, 4])"
      ]
     },
     "execution_count": 11,
     "metadata": {},
     "output_type": "execute_result"
    }
   ],
   "source": [
    "shops.keys()"
   ]
  },
  {
   "cell_type": "code",
   "execution_count": 18,
   "id": "dcc61ff8",
   "metadata": {},
   "outputs": [],
   "source": [
    "shops[1]=(3)"
   ]
  },
  {
   "cell_type": "code",
   "execution_count": 15,
   "id": "4955da92",
   "metadata": {},
   "outputs": [
    {
     "data": {
      "text/plain": [
       "{1: [3], 2: 'glocerys shops', 3: 'stationary', 4: 'pit shops'}"
      ]
     },
     "execution_count": 15,
     "metadata": {},
     "output_type": "execute_result"
    }
   ],
   "source": [
    "shops"
   ]
  },
  {
   "cell_type": "code",
   "execution_count": 19,
   "id": "a65c85ac",
   "metadata": {},
   "outputs": [
    {
     "data": {
      "text/plain": [
       "4"
      ]
     },
     "execution_count": 19,
     "metadata": {},
     "output_type": "execute_result"
    }
   ],
   "source": [
    "len(shops)"
   ]
  },
  {
   "cell_type": "code",
   "execution_count": 41,
   "id": "7de4ade7",
   "metadata": {},
   "outputs": [
    {
     "data": {
      "text/plain": [
       "'glocerys shops'"
      ]
     },
     "execution_count": 41,
     "metadata": {},
     "output_type": "execute_result"
    }
   ],
   "source": [
    "shops.pop(2)"
   ]
  },
  {
   "cell_type": "code",
   "execution_count": 42,
   "id": "6e5fff5c",
   "metadata": {},
   "outputs": [
    {
     "data": {
      "text/plain": [
       "{1: 3, 4: 'pit shops'}"
      ]
     },
     "execution_count": 42,
     "metadata": {},
     "output_type": "execute_result"
    }
   ],
   "source": [
    "shops"
   ]
  },
  {
   "cell_type": "markdown",
   "id": "3e258478",
   "metadata": {},
   "source": [
    "# SET"
   ]
  },
  {
   "cell_type": "code",
   "execution_count": 83,
   "id": "b7689b68",
   "metadata": {},
   "outputs": [],
   "source": [
    "mobiles={\"oppo\",\"vivo\",\"samsung\",\"narzo\",\"poco\",\"nokia\"}"
   ]
  },
  {
   "cell_type": "code",
   "execution_count": 84,
   "id": "37f71f7d",
   "metadata": {},
   "outputs": [
    {
     "data": {
      "text/plain": [
       "set"
      ]
     },
     "execution_count": 84,
     "metadata": {},
     "output_type": "execute_result"
    }
   ],
   "source": [
    "type(mobiles)"
   ]
  },
  {
   "cell_type": "code",
   "execution_count": 85,
   "id": "1e5a22b7",
   "metadata": {},
   "outputs": [
    {
     "data": {
      "text/plain": [
       "{'narzo', 'nokia', 'oppo', 'poco', 'samsung', 'vivo'}"
      ]
     },
     "execution_count": 85,
     "metadata": {},
     "output_type": "execute_result"
    }
   ],
   "source": [
    "mobiles"
   ]
  },
  {
   "cell_type": "code",
   "execution_count": 90,
   "id": "d576a27d",
   "metadata": {},
   "outputs": [],
   "source": [
    "mobiles.add(\"h20\")"
   ]
  },
  {
   "cell_type": "code",
   "execution_count": 91,
   "id": "b2c7cd44",
   "metadata": {},
   "outputs": [
    {
     "data": {
      "text/plain": [
       "{'h20', 'jio', 'narzo', 'nokia', 'one plus', 'oppo', 'poco', 'samsung', 'vivo'}"
      ]
     },
     "execution_count": 91,
     "metadata": {},
     "output_type": "execute_result"
    }
   ],
   "source": [
    "mobiles"
   ]
  },
  {
   "cell_type": "code",
   "execution_count": 92,
   "id": "1110823b",
   "metadata": {},
   "outputs": [],
   "source": [
    "mobiles.update({\"one plus\",\"jio\"})"
   ]
  },
  {
   "cell_type": "code",
   "execution_count": 95,
   "id": "515b0bcd",
   "metadata": {},
   "outputs": [
    {
     "data": {
      "text/plain": [
       "{'h20', 'jio', 'narzo', 'nokia', 'one plus', 'oppo', 'poco', 'samsung', 'vivo'}"
      ]
     },
     "execution_count": 95,
     "metadata": {},
     "output_type": "execute_result"
    }
   ],
   "source": [
    "mobiles\n",
    "\n"
   ]
  },
  {
   "cell_type": "code",
   "execution_count": 3,
   "id": "4ab9d445",
   "metadata": {},
   "outputs": [
    {
     "name": "stdout",
     "output_type": "stream",
     "text": [
      "enter passcode123\n",
      "password thapu da\n"
     ]
    }
   ],
   "source": [
    "a={\"regno\":879,\"name\":\"sathesh\"}\n",
    "password=214\n",
    "if password==int(input(\"enter passcode\")):\n",
    "    print(a)\n",
    "else:\n",
    "    print(\"password tha\")"
   ]
  },
  {
   "cell_type": "code",
   "execution_count": null,
   "id": "e81a25ca",
   "metadata": {},
   "outputs": [],
   "source": []
  }
 ],
 "metadata": {
  "kernelspec": {
   "display_name": "Python 3 (ipykernel)",
   "language": "python",
   "name": "python3"
  },
  "language_info": {
   "codemirror_mode": {
    "name": "ipython",
    "version": 3
   },
   "file_extension": ".py",
   "mimetype": "text/x-python",
   "name": "python",
   "nbconvert_exporter": "python",
   "pygments_lexer": "ipython3",
   "version": "3.10.12"
  }
 },
 "nbformat": 4,
 "nbformat_minor": 5
}
