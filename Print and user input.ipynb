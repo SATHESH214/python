{
 "cells": [
  {
   "cell_type": "code",
   "execution_count": 2,
   "id": "0dc3b702",
   "metadata": {},
   "outputs": [],
   "source": [
    "a=10"
   ]
  },
  {
   "cell_type": "code",
   "execution_count": 3,
   "id": "86e7f9b4",
   "metadata": {},
   "outputs": [
    {
     "data": {
      "text/plain": [
       "10"
      ]
     },
     "execution_count": 3,
     "metadata": {},
     "output_type": "execute_result"
    }
   ],
   "source": [
    "a"
   ]
  },
  {
   "cell_type": "markdown",
   "id": "73f2bc2f",
   "metadata": {},
   "source": [
    "FORMAT PRINT"
   ]
  },
  {
   "cell_type": "code",
   "execution_count": 6,
   "id": "e602b968",
   "metadata": {},
   "outputs": [
    {
     "name": "stdout",
     "output_type": "stream",
     "text": [
      "the value of 'a'10 is\n"
     ]
    }
   ],
   "source": [
    "print(\"the value of 'a'{} is\".format(a))"
   ]
  },
  {
   "cell_type": "code",
   "execution_count": 13,
   "id": "33380fd3",
   "metadata": {},
   "outputs": [],
   "source": [
    "NAME='sathesh'"
   ]
  },
  {
   "cell_type": "code",
   "execution_count": 14,
   "id": "e539afcf",
   "metadata": {},
   "outputs": [
    {
     "name": "stdout",
     "output_type": "stream",
     "text": [
      "my name is sathesh\n"
     ]
    }
   ],
   "source": [
    "print(\"my name is {}\".format(NAME))"
   ]
  },
  {
   "cell_type": "code",
   "execution_count": 10,
   "id": "d5e2e848",
   "metadata": {},
   "outputs": [
    {
     "data": {
      "text/plain": [
       "'sathesh'"
      ]
     },
     "execution_count": 10,
     "metadata": {},
     "output_type": "execute_result"
    }
   ],
   "source": [
    "a"
   ]
  },
  {
   "cell_type": "code",
   "execution_count": 16,
   "id": "4b1566f9",
   "metadata": {},
   "outputs": [
    {
     "name": "stdout",
     "output_type": "stream",
     "text": [
      "My name is sathesh\n"
     ]
    }
   ],
   "source": [
    "print(\"My name is {name}\".format(name='sathesh'))"
   ]
  },
  {
   "cell_type": "code",
   "execution_count": 19,
   "id": "0491db42",
   "metadata": {},
   "outputs": [
    {
     "name": "stdout",
     "output_type": "stream",
     "text": [
      "My name is SATHESH. Iam from KUMBAKONAM\n"
     ]
    }
   ],
   "source": [
    "print(\"My name is {name}. Iam from {place}\".format(name='SATHESH',place=\"KUMBAKONAM\"))"
   ]
  },
  {
   "cell_type": "code",
   "execution_count": 22,
   "id": "8308b23a",
   "metadata": {},
   "outputs": [
    {
     "name": "stdout",
     "output_type": "stream",
     "text": [
      "My name is sathesh. Iam in pmist\n"
     ]
    }
   ],
   "source": [
    "print(\"My name is {}. Iam in {}\".format(\"sathesh\",\"pmist\"))"
   ]
  },
  {
   "cell_type": "markdown",
   "id": "23e07197",
   "metadata": {},
   "source": [
    "# F-PRINT"
   ]
  },
  {
   "cell_type": "code",
   "execution_count": 23,
   "id": "e30648d7",
   "metadata": {},
   "outputs": [
    {
     "name": "stdout",
     "output_type": "stream",
     "text": [
      "my name is sathesh.Iam CSE engineer\n"
     ]
    }
   ],
   "source": [
    "print(f\"my name is {'sathesh'}.Iam {'CSE'} engineer\")"
   ]
  },
  {
   "cell_type": "code",
   "execution_count": 24,
   "id": "b4535b0b",
   "metadata": {},
   "outputs": [],
   "source": [
    "# f print"
   ]
  },
  {
   "cell_type": "code",
   "execution_count": 30,
   "id": "2cef4768",
   "metadata": {},
   "outputs": [
    {
     "name": "stdout",
     "output_type": "stream",
     "text": [
      "my name is SATHESH\n",
      " iam from kumbakonam\n"
     ]
    }
   ],
   "source": [
    "NAME=\"SATHESH\"\n",
    "print(f\"my name is {NAME}\\n iam from {'kumbakonam'}\")"
   ]
  },
  {
   "cell_type": "markdown",
   "id": "eaf5a7fa",
   "metadata": {},
   "source": [
    "# TASK 1"
   ]
  },
  {
   "cell_type": "markdown",
   "id": "a696d7b0",
   "metadata": {},
   "source": [
    "she\"sell\"sea shell in \"sea shore\""
   ]
  },
  {
   "cell_type": "code",
   "execution_count": 37,
   "id": "12500020",
   "metadata": {},
   "outputs": [
    {
     "name": "stdout",
     "output_type": "stream",
     "text": [
      "she \"sell\" sea shell in \"sea shore\"\n"
     ]
    }
   ],
   "source": [
    "print('she {s1} sea shell in {s2}'.format(s1='\"sell\"',s2='\"sea shore\"'))"
   ]
  },
  {
   "cell_type": "markdown",
   "id": "7d24b20a",
   "metadata": {},
   "source": [
    "# USER INPUT"
   ]
  },
  {
   "cell_type": "code",
   "execution_count": 38,
   "id": "b3f9199c",
   "metadata": {},
   "outputs": [
    {
     "name": "stdout",
     "output_type": "stream",
     "text": [
      "214\n"
     ]
    },
    {
     "data": {
      "text/plain": [
       "'214'"
      ]
     },
     "execution_count": 38,
     "metadata": {},
     "output_type": "execute_result"
    }
   ],
   "source": [
    "input()"
   ]
  },
  {
   "cell_type": "code",
   "execution_count": 39,
   "id": "23721ba6",
   "metadata": {},
   "outputs": [
    {
     "name": "stdout",
     "output_type": "stream",
     "text": [
      "412\n"
     ]
    }
   ],
   "source": [
    "var1=input()"
   ]
  },
  {
   "cell_type": "code",
   "execution_count": 40,
   "id": "2e52e07d",
   "metadata": {},
   "outputs": [
    {
     "name": "stdout",
     "output_type": "stream",
     "text": [
      "enter your namesathesh\n"
     ]
    }
   ],
   "source": [
    "var=input(\"enter your name\")"
   ]
  },
  {
   "cell_type": "code",
   "execution_count": 41,
   "id": "81e27455",
   "metadata": {},
   "outputs": [
    {
     "data": {
      "text/plain": [
       "str"
      ]
     },
     "execution_count": 41,
     "metadata": {},
     "output_type": "execute_result"
    }
   ],
   "source": [
    "type(var)"
   ]
  },
  {
   "cell_type": "code",
   "execution_count": 42,
   "id": "c66a049d",
   "metadata": {},
   "outputs": [
    {
     "name": "stdout",
     "output_type": "stream",
     "text": [
      "214\n"
     ]
    }
   ],
   "source": [
    "var=int(input())"
   ]
  },
  {
   "cell_type": "code",
   "execution_count": 43,
   "id": "52f38c44",
   "metadata": {},
   "outputs": [
    {
     "data": {
      "text/plain": [
       "int"
      ]
     },
     "execution_count": 43,
     "metadata": {},
     "output_type": "execute_result"
    }
   ],
   "source": [
    "type(var)"
   ]
  },
  {
   "cell_type": "code",
   "execution_count": null,
   "id": "6ababbc8",
   "metadata": {},
   "outputs": [],
   "source": []
  }
 ],
 "metadata": {
  "kernelspec": {
   "display_name": "Python 3 (ipykernel)",
   "language": "python",
   "name": "python3"
  },
  "language_info": {
   "codemirror_mode": {
    "name": "ipython",
    "version": 3
   },
   "file_extension": ".py",
   "mimetype": "text/x-python",
   "name": "python",
   "nbconvert_exporter": "python",
   "pygments_lexer": "ipython3",
   "version": "3.10.12"
  }
 },
 "nbformat": 4,
 "nbformat_minor": 5
}
