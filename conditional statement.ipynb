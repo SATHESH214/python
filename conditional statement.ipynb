{
 "cells": [
  {
   "cell_type": "code",
   "execution_count": 1,
   "id": "ad97bcfb",
   "metadata": {},
   "outputs": [],
   "source": [
    "a=1"
   ]
  },
  {
   "cell_type": "code",
   "execution_count": 4,
   "id": "c340a99e",
   "metadata": {},
   "outputs": [
    {
     "name": "stdout",
     "output_type": "stream",
     "text": [
      "false\n"
     ]
    }
   ],
   "source": [
    "if a==10:\n",
    "    print(\"pass\")\n",
    "else:\n",
    "    print(\"false\")"
   ]
  },
  {
   "cell_type": "code",
   "execution_count": 6,
   "id": "68c8e042",
   "metadata": {},
   "outputs": [
    {
     "name": "stdout",
     "output_type": "stream",
     "text": [
      "3\n",
      "2\n",
      "is greater\n"
     ]
    }
   ],
   "source": [
    "a=int(input(\"\"))\n",
    "b=int(input(\"\"))\n",
    "if a<b:\n",
    "    print(\"is smaller\")\n",
    "else:\n",
    "    print(\"is greater\")"
   ]
  },
  {
   "cell_type": "code",
   "execution_count": 10,
   "id": "0969ee70",
   "metadata": {},
   "outputs": [
    {
     "name": "stdout",
     "output_type": "stream",
     "text": [
      "Enter your age:18\n",
      "you are elligible for voting\n"
     ]
    }
   ],
   "source": [
    "age=int(input(\"Enter your age:\"))\n",
    "if age>=18:\n",
    "    print(\"you are elligible for voting\")\n",
    "else:\n",
    "    print(\"you are not elligible for voting\")"
   ]
  },
  {
   "cell_type": "code",
   "execution_count": 13,
   "id": "311763ac",
   "metadata": {},
   "outputs": [
    {
     "name": "stdout",
     "output_type": "stream",
     "text": [
      "Enter your age18\n",
      "you are elligible for voting\n",
      "Enter your name:sathesh\n",
      "enter your area:kumbakonam\n",
      "Thank you for entering your details.Your voter card will be delivered soon\n"
     ]
    }
   ],
   "source": [
    "age=int(input(\"Enter your age\"))\n",
    "if age<=18:\n",
    "    print(\"you are elligible for voting\")\n",
    "    Name=input(\"Enter your name:\")\n",
    "    Location=input(\"enter your area:\")\n",
    "    print(\"Thank you for entering your details.Your voter card will be delivered soon\")\n",
    "else:\n",
    "    print(\"you are not elligible for voting\")\n",
    "\n",
    "    "
   ]
  },
  {
   "cell_type": "code",
   "execution_count": 20,
   "id": "c63f02c0",
   "metadata": {},
   "outputs": [
    {
     "name": "stdout",
     "output_type": "stream",
     "text": [
      "enter days2\n",
      "your fine amount is 50\n"
     ]
    }
   ],
   "source": [
    "a=2\n",
    "b=4\n",
    "c=5\n",
    "due=int(input(\"enter days\"))\n",
    "if due==a:\n",
    "    print(\"your fine amount is 50\")\n",
    "elif due==b:\n",
    "    print(\"your fine amount is 100\")\n",
    "else:\n",
    "    print(\"your fine amount is 300\")"
   ]
  },
  {
   "cell_type": "code",
   "execution_count": null,
   "id": "7a68c02f",
   "metadata": {},
   "outputs": [],
   "source": []
  }
 ],
 "metadata": {
  "kernelspec": {
   "display_name": "Python 3 (ipykernel)",
   "language": "python",
   "name": "python3"
  },
  "language_info": {
   "codemirror_mode": {
    "name": "ipython",
    "version": 3
   },
   "file_extension": ".py",
   "mimetype": "text/x-python",
   "name": "python",
   "nbconvert_exporter": "python",
   "pygments_lexer": "ipython3",
   "version": "3.10.12"
  }
 },
 "nbformat": 4,
 "nbformat_minor": 5
}
